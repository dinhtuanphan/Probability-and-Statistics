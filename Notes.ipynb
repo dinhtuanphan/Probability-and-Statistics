{
 "cells": [
  {
   "cell_type": "markdown",
   "metadata": {},
   "source": [
    "## Notes for writing code faster"
   ]
  },
  {
   "cell_type": "code",
   "execution_count": null,
   "metadata": {},
   "outputs": [],
   "source": [
    "AttributeError: 'set' object has no attribute 'append'\n",
    "--> use duplicates.add(num)\n",
    "\n",
    "AttributeError: 'list' object has no attribute 'add'\n",
    "--> use duplicates.append(num)   "
   ]
  },
  {
   "cell_type": "code",
   "execution_count": null,
   "metadata": {},
   "outputs": [],
   "source": [
    "TypeError: append() takes exactly one argument (2 given)\n",
    "--> pairs.append((num1, num2))"
   ]
  },
  {
   "cell_type": "code",
   "execution_count": null,
   "metadata": {},
   "outputs": [],
   "source": [
    "range(1,10) create nothing\n",
    "--> list(range(1,10))"
   ]
  },
  {
   "cell_type": "code",
   "execution_count": null,
   "metadata": {},
   "outputs": [],
   "source": [
    "for matrix: len(X) is rows (i index), len(X[0]) is columns (j index)\n",
    "--> for i in range(len(X)): iterate through rows\n",
    "--> for j in range(len(X[0])): iterate through columns"
   ]
  },
  {
   "cell_type": "code",
   "execution_count": null,
   "metadata": {},
   "outputs": [],
   "source": [
    "lst = set(lst) return a set {}\n",
    "--> lst = list(set(lst)): to return a list"
   ]
  },
  {
   "cell_type": "code",
   "execution_count": null,
   "metadata": {},
   "outputs": [],
   "source": [
    "list.sort sorts the list in place, i.e. it doesn't return a new list\n",
    "--> Use: answer = sorted(newList)"
   ]
  },
  {
   "cell_type": "code",
   "execution_count": null,
   "metadata": {},
   "outputs": [],
   "source": [
    "# negative infinity\n",
    "max_subarray = -math.inf\n",
    "\n",
    "# Program to add two matrices\n",
    "# using list comprehension\n",
    "result = [[X[i][j] + Y[i][j]  for j in range (len(X[0]))] for i in range(len(X))]"
   ]
  },
  {
   "cell_type": "code",
   "execution_count": null,
   "metadata": {},
   "outputs": [],
   "source": [
    "Reverse a string by indexing [::-1]"
   ]
  },
  {
   "cell_type": "code",
   "execution_count": null,
   "metadata": {},
   "outputs": [],
   "source": [
    "List of lists vs np.array\n",
    "Regular python list of lists (but does not support indexing with array)\n",
    "Unlike lists and tuples, NumPy arrays support multidimensional indexing for multidimensional arrays.\n",
    "That means that it is not necessary to separate each dimension’s index into its own set of square brackets."
   ]
  },
  {
   "cell_type": "code",
   "execution_count": null,
   "metadata": {},
   "outputs": [],
   "source": [
    "Lists are one of 4 built-in data types in Python used to store collections of data, \n",
    "the other 3 are Tuple, Set, and Dictionary, all with different qualities and usage."
   ]
  },
  {
   "cell_type": "code",
   "execution_count": null,
   "metadata": {},
   "outputs": [],
   "source": [
    "Converting Python sequences to NumPy Arrays\n",
    "a list of numbers will create a 1D array, a1D = np.array([1, 2, 3, 4])\n",
    "a list of lists will create a 2D array, a2D = np.array([[1, 2], [3, 4]])\n",
    "further nested lists will create higher-dimensional arrays, a3D = np.array([[[1, 2], [3, 4]], [[5, 6], [7, 8]]])"
   ]
  }
 ],
 "metadata": {
  "kernelspec": {
   "display_name": "Python 3",
   "language": "python",
   "name": "python3"
  },
  "language_info": {
   "codemirror_mode": {
    "name": "ipython",
    "version": 3
   },
   "file_extension": ".py",
   "mimetype": "text/x-python",
   "name": "python",
   "nbconvert_exporter": "python",
   "pygments_lexer": "ipython3",
   "version": "3.7.2"
  }
 },
 "nbformat": 4,
 "nbformat_minor": 2
}
