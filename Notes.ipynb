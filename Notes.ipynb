{
 "cells": [
  {
   "cell_type": "markdown",
   "metadata": {},
   "source": [
    "## Notes for writing code faster"
   ]
  },
  {
   "cell_type": "code",
   "execution_count": null,
   "metadata": {},
   "outputs": [],
   "source": [
    "AttributeError: 'set' object has no attribute 'append'\n",
    "--> use duplicates.add(num)\n",
    "\n",
    "AttributeError: 'list' object has no attribute 'add'\n",
    "--> use duplicates.append(num)   "
   ]
  },
  {
   "cell_type": "code",
   "execution_count": null,
   "metadata": {},
   "outputs": [],
   "source": [
    "TypeError: append() takes exactly one argument (2 given)\n",
    "--> pairs.append((num1, num2))"
   ]
  },
  {
   "cell_type": "code",
   "execution_count": null,
   "metadata": {},
   "outputs": [],
   "source": [
    "range(1,10) create nothing\n",
    "--> list(range(1,10))"
   ]
  },
  {
   "cell_type": "code",
   "execution_count": null,
   "metadata": {},
   "outputs": [],
   "source": [
    "for matrix: len(X) is rows (i index), len(X[0]) is columns (j index)\n",
    "--> for i in range(len(X)): iterate through rows\n",
    "--> for j in range(len(X[0])): iterate through columns"
   ]
  },
  {
   "cell_type": "code",
   "execution_count": null,
   "metadata": {},
   "outputs": [],
   "source": [
    "lst = set(lst) return a set {}\n",
    "--> lst = list(set(lst)): to return a list"
   ]
  },
  {
   "cell_type": "code",
   "execution_count": null,
   "metadata": {},
   "outputs": [],
   "source": [
    "list.sort sorts the list in place, i.e. it doesn't return a new list\n",
    "--> Use: answer = sorted(newList)"
   ]
  },
  {
   "cell_type": "code",
   "execution_count": null,
   "metadata": {},
   "outputs": [],
   "source": [
    "# negative infinity\n",
    "max_subarray = -math.inf\n",
    "\n",
    "# Program to add two matrices\n",
    "# using list comprehension\n",
    "result = [[X[i][j] + Y[i][j]  for j in range (len(X[0]))] for i in range(len(X))]"
   ]
  },
  {
   "cell_type": "code",
   "execution_count": null,
   "metadata": {},
   "outputs": [],
   "source": [
    "Reverse a string by indexing [::-1]"
   ]
  },
  {
   "cell_type": "code",
   "execution_count": null,
   "metadata": {},
   "outputs": [],
   "source": [
    "List of lists vs np.array\n",
    "Regular python list of lists (but does not support indexing with array)\n",
    "Unlike lists and tuples, NumPy arrays support multidimensional indexing for multidimensional arrays.\n",
    "That means that it is not necessary to separate each dimension’s index into its own set of square brackets."
   ]
  },
  {
   "cell_type": "code",
   "execution_count": null,
   "metadata": {},
   "outputs": [],
   "source": [
    "Lists are one of 4 built-in data types in Python used to store collections of data, \n",
    "the other 3 are Tuple, Set, and Dictionary, all with different qualities and usage."
   ]
  },
  {
   "cell_type": "code",
   "execution_count": null,
   "metadata": {},
   "outputs": [],
   "source": [
    "Converting Python sequences to NumPy Arrays\n",
    "a list of numbers will create a 1D array, a1D = np.array([1, 2, 3, 4])\n",
    "a list of lists will create a 2D array, a2D = np.array([[1, 2], [3, 4]])\n",
    "further nested lists will create higher-dimensional arrays, a3D = np.array([[[1, 2], [3, 4]], [[5, 6], [7, 8]]])"
   ]
  },
  {
   "cell_type": "code",
   "execution_count": null,
   "metadata": {},
   "outputs": [],
   "source": [
    "# Convert Python dict into a dataframe\n",
    "pd.DataFrame(d.items())  # or list(d.items()) in python 3\n",
    "pd.DataFrame(d.items(), columns=['Date', 'DateValue'])\n",
    "        Date      DateValue\n",
    "0   2012-07-02        392\n",
    "1   2012-07-06        392\n",
    "2   2012-06-29        391\n",
    "or:\n",
    ">>> dict_ = {'key 1': 'value 1', 'key 2': 'value 2', 'key 3': 'value 3'}\n",
    ">>> pd.DataFrame([dict_])\n",
    "    key 1     key 2     key 3\n",
    "0   value 1   value 2   value 3"
   ]
  },
  {
   "cell_type": "code",
   "execution_count": null,
   "metadata": {},
   "outputs": [],
   "source": [
    "# How do I convert two lists into a dictionary?\n",
    "keys = ['a', 'b', 'c']\n",
    "values = [1, 2, 3]\n",
    "dictionary = dict(zip(keys, values))\n",
    "print(dictionary) # {'a': 1, 'b': 2, 'c': 3}\n",
    "or using dict comprehension:\n",
    "new_dict = {k: v for k, v in zip(keys, values)}"
   ]
  },
  {
   "cell_type": "code",
   "execution_count": null,
   "metadata": {},
   "outputs": [],
   "source": [
    "# How to filter a dictionary according to an arbitrary condition function?\n",
    ">>> points={'a':(3,4), 'b':(1,2), 'c':(5,5), 'd':(3,3)}\n",
    "use a dict comprehension:\n",
    "{k: v for k, v in points.items() if v[0] < 5 and v[1] < 5}\n",
    "{'a': (3, 4), 'b': (1, 2), 'd': (3, 3)}"
   ]
  },
  {
   "cell_type": "code",
   "execution_count": null,
   "metadata": {},
   "outputs": [],
   "source": [
    "# Why dict.get(key) instead of dict[key]?\n",
    "--> allows you to provide a default value if the key is missing:\n",
    "dictionary.get(\"bogus\", default_value)"
   ]
  },
  {
   "cell_type": "code",
   "execution_count": 1,
   "metadata": {},
   "outputs": [],
   "source": [
    "# Convert [key1,val1,key2,val2] to a dict?\n",
    "a = ['hello','world','1','2']\n",
    "b = dict(zip(a[::2], a[1::2]))  # slice notation\n",
    "{'hello': 'world', '1': '2'}\n",
    "or using dict comprehension\n",
    "b = {a[i]: a[i+1] for i in range(0, len(a), 2)}\n",
    "{'hello': 'world', '1': '2'}\n",
    "or using list comprehension and a dict contructor\n",
    "dict(x[i:i+2] for i in range(0, len(x), 2))"
   ]
  },
  {
   "cell_type": "code",
   "execution_count": null,
   "metadata": {},
   "outputs": [],
   "source": [
    "a = ['bi','double','duo','two']\n",
    ">>> dict((k,2) for k in a)\n",
    "{'double': 2, 'bi': 2, 'two': 2, 'duo': 2}"
   ]
  },
  {
   "cell_type": "code",
   "execution_count": null,
   "metadata": {},
   "outputs": [],
   "source": [
    "def Convert(a):\n",
    "    it = iter(a)\n",
    "    res_dct = dict(zip(it, it))\n",
    "    return res_dct\n",
    "         \n",
    "# Driver code\n",
    "lst = ['a', 1, 'b', 2, 'c', 3]\n",
    "print(Convert(lst))\n",
    "{'a': 1, 'b': 2, 'c': 3}"
   ]
  },
  {
   "cell_type": "code",
   "execution_count": null,
   "metadata": {},
   "outputs": [],
   "source": [
    "# Convert List to Dictionary Python: Dictionary Comprehension\n",
    "fruits = [\"Apple\", \"Pear\", \"Peach\", \"Banana\"]\n",
    "fruit_dictionary = { fruit : \"In stock\" for fruit in fruits }\n",
    "print(fruit_dictionary)\n",
    "{'Apple': 'In stock', 'Pear': 'In stock', 'Peach': 'In stock', 'Banana': 'In stock'}"
   ]
  }
 ],
 "metadata": {
  "kernelspec": {
   "display_name": "Python 3",
   "language": "python",
   "name": "python3"
  },
  "language_info": {
   "codemirror_mode": {
    "name": "ipython",
    "version": 3
   },
   "file_extension": ".py",
   "mimetype": "text/x-python",
   "name": "python",
   "nbconvert_exporter": "python",
   "pygments_lexer": "ipython3",
   "version": "3.9.4"
  }
 },
 "nbformat": 4,
 "nbformat_minor": 2
}
