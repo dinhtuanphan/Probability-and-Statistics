{
 "cells": [
  {
   "cell_type": "code",
   "execution_count": null,
   "metadata": {},
   "outputs": [],
   "source": [
    "AttributeError: 'set' object has no attribute 'append'\n",
    "--> use duplicates.add(num)\n",
    "\n",
    "AttributeError: 'list' object has no attribute 'add'\n",
    "--> use duplicates.append(num)   "
   ]
  },
  {
   "cell_type": "code",
   "execution_count": null,
   "metadata": {},
   "outputs": [],
   "source": [
    "range(1,10) create nothing\n",
    "--> list(range(1,10))"
   ]
  },
  {
   "cell_type": "code",
   "execution_count": null,
   "metadata": {},
   "outputs": [],
   "source": [
    "for matrix: len(X) is rows (i index), len(X[0]) is columns (j index)\n",
    "--> for i in range(len(X)): iterate through rows\n",
    "--> for j in range(len(X[0])): iterate through columns"
   ]
  },
  {
   "cell_type": "code",
   "execution_count": null,
   "metadata": {},
   "outputs": [],
   "source": [
    "lst = set(lst) return a set {}\n",
    "--> lst = list(set(lst)): to return a list"
   ]
  },
  {
   "cell_type": "code",
   "execution_count": null,
   "metadata": {},
   "outputs": [],
   "source": [
    "list.sort sorts the list in place, i.e. it doesn't return a new list\n",
    "Use:\n",
    "answer = sorted(newList)"
   ]
  },
  {
   "cell_type": "code",
   "execution_count": null,
   "metadata": {},
   "outputs": [],
   "source": [
    "# negative infinity\n",
    "max_subarray = -math.inf\n",
    "\n",
    "# Program to add two matrices\n",
    "# using list comprehension\n",
    "result = [[X[i][j] + Y[i][j]  for j in range (len(X[0]))] for i in range(len(X))]"
   ]
  },
  {
   "cell_type": "code",
   "execution_count": null,
   "metadata": {},
   "outputs": [],
   "source": []
  }
 ],
 "metadata": {
  "kernelspec": {
   "display_name": "Python 3",
   "language": "python",
   "name": "python3"
  },
  "language_info": {
   "codemirror_mode": {
    "name": "ipython",
    "version": 3
   },
   "file_extension": ".py",
   "mimetype": "text/x-python",
   "name": "python",
   "nbconvert_exporter": "python",
   "pygments_lexer": "ipython3",
   "version": "3.7.2"
  }
 },
 "nbformat": 4,
 "nbformat_minor": 2
}
