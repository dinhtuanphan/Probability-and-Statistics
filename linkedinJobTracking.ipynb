{
 "cells": [
  {
   "cell_type": "code",
   "execution_count": 1,
   "id": "f4e7b85e",
   "metadata": {},
   "outputs": [
    {
     "name": "stdout",
     "output_type": "stream",
     "text": [
      "https://www.linkedin.com/uas/oauth2/authorization?response_type=code&client_id=77tfvwm1sh0xgp&scope=r_basicprofile%20r_emailaddress%20w_share%20rw_company_admin%20r_fullprofile%20r_contactinfo&state=f1e87ac3d62a09285f912784e36652e2&redirect_uri=http%3A//localhost%3A8000\n"
     ]
    }
   ],
   "source": [
    "from linkedin import linkedin\n",
    "\n",
    "APPLICATON_KEY    = '77tfvwm1sh0xgp'\n",
    "APPLICATON_SECRET = 'prxdYeKqz5frJrsB'\n",
    "\n",
    "RETURN_URL = 'http://localhost:8000'\n",
    "\n",
    "authentication = linkedin.LinkedInAuthentication(\n",
    "                    APPLICATON_KEY,\n",
    "                    APPLICATON_SECRET,\n",
    "                    RETURN_URL,\n",
    "                    linkedin.PERMISSIONS.enums.values()\n",
    "                )\n",
    "print (authentication.authorization_url)"
   ]
  },
  {
   "cell_type": "code",
   "execution_count": null,
   "id": "77bc846a",
   "metadata": {},
   "outputs": [
    {
     "name": "stdout",
     "output_type": "stream",
     "text": [
      "https://www.linkedin.com/uas/oauth2/authorization?response_type=code&client_id=77tfvwm1sh0xgp&scope=r_basicprofile%20r_emailaddress%20w_share%20rw_company_admin%20r_fullprofile%20r_contactinfo&state=7f98a9101cf63db01babe622a370469c&redirect_uri=http%3A//localhost%3A8000/\n"
     ]
    }
   ],
   "source": [
    "from linkedin import server\n",
    "application = server.quick_api(\"77tfvwm1sh0xgp\", \"prxdYeKqz5frJrsB\")"
   ]
  },
  {
   "cell_type": "code",
   "execution_count": null,
   "id": "b46aa8cc",
   "metadata": {},
   "outputs": [],
   "source": [
    "application.get_job(job_id=5174636)\n",
    "{u'active': True,\n",
    " u'company': {u'id': 2329, u'name': u'Schneider Electric'},\n",
    " u'descriptionSnippet': u\"The Industrial Accounts Sales Manager is a quota carrying senior sales position principally responsible for generating new sales and growing company's share of wallet within the industrial business, contracting business and consulting engineering business. The primary objective is to build and establish strong and lasting relationships with technical teams and at executive level within specific in\",\n",
    " u'id': 5174636,\n",
    " u'position': {u'title': u'Industrial Accounts Sales Manager'},\n",
    " u'postingTimestamp': 1363860033000}"
   ]
  },
  {
   "cell_type": "code",
   "execution_count": null,
   "id": "66b47ec6",
   "metadata": {},
   "outputs": [],
   "source": []
  }
 ],
 "metadata": {
  "kernelspec": {
   "display_name": "Python 3",
   "language": "python",
   "name": "python3"
  },
  "language_info": {
   "codemirror_mode": {
    "name": "ipython",
    "version": 3
   },
   "file_extension": ".py",
   "mimetype": "text/x-python",
   "name": "python",
   "nbconvert_exporter": "python",
   "pygments_lexer": "ipython3",
   "version": "3.9.4"
  }
 },
 "nbformat": 4,
 "nbformat_minor": 5
}
