{
 "cells": [
  {
   "cell_type": "code",
   "execution_count": 10,
   "id": "5c028d32",
   "metadata": {},
   "outputs": [
    {
     "data": {
      "text/plain": [
       "array([ 0,  4,  4,  9, 81])"
      ]
     },
     "execution_count": 10,
     "metadata": {},
     "output_type": "execute_result"
    }
   ],
   "source": [
    "import numpy as np\n",
    "nums = [-9, -2, 0, 2, 3]\n",
    "new_lst = np.sort([num**2 for num in nums])\n",
    "new_lst"
   ]
  },
  {
   "cell_type": "code",
   "execution_count": 24,
   "id": "1a2b930a",
   "metadata": {},
   "outputs": [
    {
     "data": {
      "text/plain": [
       "array([ 0,  4,  4,  9, 81])"
      ]
     },
     "execution_count": 24,
     "metadata": {},
     "output_type": "execute_result"
    }
   ],
   "source": [
    "import numpy as np\n",
    "def squareSorted(lst):\n",
    "    new = []\n",
    "    for i in lst:\n",
    "        i = i**2\n",
    "        new.append(i)\n",
    "    return(np.sort(new))\n",
    "squareSorted(nums)"
   ]
  },
  {
   "cell_type": "code",
   "execution_count": 25,
   "id": "0f4b1d47",
   "metadata": {},
   "outputs": [
    {
     "data": {
      "text/plain": [
       "array([ 0,  4,  4,  9, 81])"
      ]
     },
     "execution_count": 25,
     "metadata": {},
     "output_type": "execute_result"
    }
   ],
   "source": [
    "squareSorted(nums)"
   ]
  },
  {
   "cell_type": "code",
   "execution_count": null,
   "id": "8bbc18e8",
   "metadata": {},
   "outputs": [],
   "source": []
  }
 ],
 "metadata": {
  "kernelspec": {
   "display_name": "Python 3",
   "language": "python",
   "name": "python3"
  },
  "language_info": {
   "codemirror_mode": {
    "name": "ipython",
    "version": 3
   },
   "file_extension": ".py",
   "mimetype": "text/x-python",
   "name": "python",
   "nbconvert_exporter": "python",
   "pygments_lexer": "ipython3",
   "version": "3.9.4"
  }
 },
 "nbformat": 4,
 "nbformat_minor": 5
}
