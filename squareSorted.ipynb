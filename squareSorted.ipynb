{
 "cells": [
  {
   "cell_type": "code",
   "execution_count": 28,
   "id": "8e040e8a",
   "metadata": {},
   "outputs": [
    {
     "data": {
      "text/plain": [
       "array([ 0,  4,  4,  9, 81])"
      ]
     },
     "execution_count": 28,
     "metadata": {},
     "output_type": "execute_result"
    }
   ],
   "source": [
    "import numpy as np\n",
    "nums = [-9, -2, 0, 2, 3]\n",
    "new_lst = np.sort([num**2 for num in nums])\n",
    "new_lst"
   ]
  },
  {
   "cell_type": "code",
   "execution_count": 29,
   "id": "7750d2e7",
   "metadata": {},
   "outputs": [
    {
     "data": {
      "text/plain": [
       "array([ 0,  4,  4,  9, 81])"
      ]
     },
     "execution_count": 29,
     "metadata": {},
     "output_type": "execute_result"
    }
   ],
   "source": [
    "import numpy as np\n",
    "def squareSorted(lst):\n",
    "    new_lst = []\n",
    "    for i in lst:\n",
    "        i = i**2\n",
    "        new_lst.append(i)\n",
    "    return(np.sort(new_lst))\n",
    "squareSorted(nums)"
   ]
  },
  {
   "cell_type": "code",
   "execution_count": null,
   "id": "20102d33",
   "metadata": {},
   "outputs": [],
   "source": []
  }
 ],
 "metadata": {
  "kernelspec": {
   "display_name": "Python 3",
   "language": "python",
   "name": "python3"
  },
  "language_info": {
   "codemirror_mode": {
    "name": "ipython",
    "version": 3
   },
   "file_extension": ".py",
   "mimetype": "text/x-python",
   "name": "python",
   "nbconvert_exporter": "python",
   "pygments_lexer": "ipython3",
   "version": "3.9.4"
  }
 },
 "nbformat": 4,
 "nbformat_minor": 5
}
